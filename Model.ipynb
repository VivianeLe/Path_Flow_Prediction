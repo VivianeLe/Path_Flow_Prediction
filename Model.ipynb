{
 "cells": [
  {
   "cell_type": "code",
   "execution_count": 1,
   "id": "77271c46",
   "metadata": {},
   "outputs": [],
   "source": [
    "%run utils.py\n",
    "\n",
    "\n",
    "class SimpleNeuralNet(nn.Module): \n",
    "\n",
    "    def __init__(self, num_inputs, num_hidden, num_outputs):\n",
    "        super().__init__()\n",
    "        # Initialize the modules we need to build the network\n",
    "        self.linear1 = nn.Linear(num_inputs, num_hidden)\n",
    "        self.act_fn = nn.ReLU()\n",
    "        self.linear2 = nn.Linear(num_hidden, num_outputs)\n",
    "\n",
    "    def forward(self, x):\n",
    "        # Perform the calculation of the model to determine the prediction\n",
    "        x = self.linear1(x)\n",
    "        x = self.act_fn(x)\n",
    "        x = self.linear2(x)\n",
    "        return x\n",
    "    \n",
    "    \n",
    "class Dataset():\n",
    "\n",
    "    def __init__(self, size, input_size, output_size, start_from=0):\n",
    "     \n",
    "        super().__init__()\n",
    "        self.entries = size\n",
    "        self.X = torch.zeros([size, input_size], dtype=torch.float32)\n",
    "        self.Y = torch.zeros([size, output_size], dtype=torch.float32)\n",
    "        \n",
    "        #get the datapoints one by one and build the dataset : To be improved computationnaly !!\n",
    "        for i in tqdm(range(size)) :\n",
    "            file_name = \"Output/5by5_Data{}\".format(start_from+i)\n",
    "            x,y = create_datapoint(file_name, 5, 5, 3 )\n",
    "            self.X[i] = x\n",
    "            self.Y[i] = y\n",
    "\n",
    "    def __len__(self):\n",
    "        return self.entries\n",
    "\n",
    "    def __getitem__(self, idx):\n",
    "        data_point = self.X[idx]\n",
    "        data_label = self.Y[idx]\n",
    "        return data_point, data_label"
   ]
  },
  {
   "cell_type": "code",
   "execution_count": 2,
   "id": "a87ffbae",
   "metadata": {},
   "outputs": [
    {
     "data": {
      "application/vnd.jupyter.widget-view+json": {
       "model_id": "9f6152de692341fe94549d2989bfb23d",
       "version_major": 2,
       "version_minor": 0
      },
      "text/plain": [
       "  0%|          | 0/30000 [00:00<?, ?it/s]"
      ]
     },
     "metadata": {},
     "output_type": "display_data"
    }
   ],
   "source": [
    "train_dataset_size = 30000\n",
    "train_dataset = Dataset(train_dataset_size, 3025, 1155 )  # 3025 is the X size ; 1155 is the Y size\n",
    "train_data_loader = data.DataLoader(train_dataset, batch_size=128, shuffle=False, drop_last=False)\n",
    "    \n",
    "model = SimpleNeuralNet(num_inputs=3025, num_hidden=16, num_outputs=1155)\n",
    "#for name, param in model.named_parameters():\n",
    "    #print(f\"Parameter {name}, shape {param.shape}\")  # weight [output, input],  bias [output] \n",
    "    \n",
    "#print(model)"
   ]
  },
  {
   "cell_type": "code",
   "execution_count": 3,
   "id": "91b0fbb3",
   "metadata": {},
   "outputs": [
    {
     "data": {
      "application/vnd.jupyter.widget-view+json": {
       "model_id": "7dd0e016b43f4d758c98a1ec4f248e52",
       "version_major": 2,
       "version_minor": 0
      },
      "text/plain": [
       "  0%|          | 0/1000 [00:00<?, ?it/s]"
      ]
     },
     "metadata": {},
     "output_type": "display_data"
    }
   ],
   "source": [
    "loss_module = nn.MSELoss()\n",
    "optimizer = torch.optim.SGD(model.parameters(), lr=0.01)\n",
    "#optimizer = torch.optim.AdamW(model.parameters(),weight_decay=0.375e-2) \n",
    "\n",
    "def train_model(model, optimizer, data_loader, loss_module, num_epochs=1000):\n",
    "    losses = []\n",
    "    # Set model to train mode\n",
    "    model.train()\n",
    "\n",
    "    # Training loop\n",
    "    for epoch in tqdm(range(num_epochs)):\n",
    "        for data_inputs, data_labels in data_loader:\n",
    "            preds = model(data_inputs)\n",
    "            assert preds.shape == data_labels.shape \n",
    "            loss = loss_module(preds, data_labels)\n",
    "            optimizer.zero_grad()\n",
    "            loss.backward()\n",
    "            optimizer.step()\n",
    "            losses.append(loss.item())\n",
    "    return losses\n",
    "\n",
    "losses = train_model(model, optimizer, train_data_loader, loss_module, 1000)"
   ]
  },
  {
   "cell_type": "code",
   "execution_count": 16,
   "id": "f796924b",
   "metadata": {},
   "outputs": [
    {
     "data": {
      "application/vnd.jupyter.widget-view+json": {
       "model_id": "09c76c48186b4e60a749285468986812",
       "version_major": 2,
       "version_minor": 0
      },
      "text/plain": [
       "  0%|          | 0/10000 [00:00<?, ?it/s]"
      ]
     },
     "metadata": {},
     "output_type": "display_data"
    },
    {
     "name": "stdout",
     "output_type": "stream",
     "text": [
      "test score 141914.83\n"
     ]
    }
   ],
   "source": [
    "test_dataset_size = 10000\n",
    "test_dataset = Dataset(test_dataset_size, 3025, 1155, start_from=30000 ) \n",
    "test_data_loader = data.DataLoader(test_dataset, batch_size=128, shuffle=False, drop_last=False)\n",
    "\n",
    "def eval_model(model, data_loader):\n",
    "    \n",
    "    predictions = []\n",
    "    \n",
    "    model.eval() # Set model to eval mode\n",
    "    with torch.no_grad(): # Deactivate gradients for the following code\n",
    "        for data_inputs, data_labels in data_loader:\n",
    "            preds = model(data_inputs)\n",
    "            predictions.append(preds)\n",
    "    return predictions\n",
    "P = eval_model(model, test_data_loader)\n",
    "predicted = torch.stack(flatten_chain(P), dim=0)\n",
    "\n",
    "print(\"test score\", mean_squared_error(test_dataset.Y, predicted))"
   ]
  },
  {
   "cell_type": "code",
   "execution_count": 11,
   "id": "83938040",
   "metadata": {},
   "outputs": [],
   "source": []
  },
  {
   "cell_type": "code",
   "execution_count": null,
   "id": "c27885eb",
   "metadata": {},
   "outputs": [],
   "source": []
  }
 ],
 "metadata": {
  "kernelspec": {
   "display_name": "Python 3 (ipykernel)",
   "language": "python",
   "name": "python3"
  },
  "language_info": {
   "codemirror_mode": {
    "name": "ipython",
    "version": 3
   },
   "file_extension": ".py",
   "mimetype": "text/x-python",
   "name": "python",
   "nbconvert_exporter": "python",
   "pygments_lexer": "ipython3",
   "version": "3.9.12"
  }
 },
 "nbformat": 4,
 "nbformat_minor": 5
}
