{
 "cells": [
  {
   "cell_type": "markdown",
   "metadata": {},
   "source": [
    "## LOAD SOLUTION FILES"
   ]
  },
  {
   "cell_type": "code",
   "execution_count": 1,
   "metadata": {},
   "outputs": [],
   "source": [
    "import os\n",
    "import pickle\n",
    "import pandas as pd\n",
    "from tf_attention import *\n",
    "from tf_helpers import *"
   ]
  },
  {
   "cell_type": "markdown",
   "metadata": {},
   "source": [
    "### Test Encoder"
   ]
  },
  {
   "cell_type": "code",
   "execution_count": 14,
   "metadata": {},
   "outputs": [
    {
     "data": {
      "application/vnd.jupyter.widget-view+json": {
       "model_id": "628e2d121cb84ab2bef7594bc5f18303",
       "version_major": 2,
       "version_minor": 0
      },
      "text/plain": [
       "  0%|          | 0/32 [00:00<?, ?it/s]"
      ]
     },
     "metadata": {},
     "output_type": "display_data"
    }
   ],
   "source": [
    "# print(torch.cuda.is_available())\n",
    "%run tf_helpers.py\n",
    "import tensorflow as tf\n",
    "\n",
    "size = 32\n",
    "sequence_length = 625\n",
    "input_dim = 9\n",
    "output_dim = 3\n",
    "\n",
    "path_encoded = path_encoder()\n",
    "X = []\n",
    "Y = []\n",
    "network = []\n",
    "for i in tqdm(range(size)) :\n",
    "    file_name = f\"Output/5by5_Data{i}\"\n",
    "    x, y = generate_xy(file_name, path_encoded)\n",
    "    X.append(x)\n",
    "    Y.append(y)\n",
    "\n",
    "    # file = open(file_name, \"rb\")\n",
    "    # stat = pickle.load(file)\n",
    "    # file.close()\n",
    "    # net = stat[\"data\"][\"network\"]\n",
    "    # nodes = stat[\"data\"][\"nodes\"]\n",
    "    # Graph = get_graphTensor(net, nodes)\n",
    "    # network.append(Graph)\n",
    "X = tf.stack(X, axis=0)\n",
    "Y = tf.stack(Y, axis=0)\n",
    "    "
   ]
  },
  {
   "cell_type": "code",
   "execution_count": 3,
   "metadata": {},
   "outputs": [
    {
     "data": {
      "text/plain": [
       "TensorShape([32, 625, 3])"
      ]
     },
     "execution_count": 3,
     "metadata": {},
     "output_type": "execute_result"
    }
   ],
   "source": [
    "network[0]"
   ]
  },
  {
   "cell_type": "code",
   "execution_count": 16,
   "metadata": {},
   "outputs": [
    {
     "data": {
      "text/html": [
       "<div>\n",
       "<style scoped>\n",
       "    .dataframe tbody tr th:only-of-type {\n",
       "        vertical-align: middle;\n",
       "    }\n",
       "\n",
       "    .dataframe tbody tr th {\n",
       "        vertical-align: top;\n",
       "    }\n",
       "\n",
       "    .dataframe thead th {\n",
       "        text-align: right;\n",
       "    }\n",
       "</style>\n",
       "<table border=\"1\" class=\"dataframe\">\n",
       "  <thead>\n",
       "    <tr style=\"text-align: right;\">\n",
       "      <th></th>\n",
       "      <th>0</th>\n",
       "      <th>1</th>\n",
       "      <th>2</th>\n",
       "      <th>3</th>\n",
       "      <th>4</th>\n",
       "      <th>5</th>\n",
       "      <th>6</th>\n",
       "    </tr>\n",
       "  </thead>\n",
       "  <tbody>\n",
       "    <tr>\n",
       "      <th>0</th>\n",
       "      <td>-1.000000e+09</td>\n",
       "      <td>-1.000000e+09</td>\n",
       "      <td>-1.000000e+09</td>\n",
       "      <td>-1.000000e+09</td>\n",
       "      <td>-1.000000e+09</td>\n",
       "      <td>-1.000000e+09</td>\n",
       "      <td>-1.000000e+09</td>\n",
       "    </tr>\n",
       "    <tr>\n",
       "      <th>1</th>\n",
       "      <td>1.000000e+00</td>\n",
       "      <td>1.000000e+00</td>\n",
       "      <td>1.000000e+00</td>\n",
       "      <td>8.908909e-02</td>\n",
       "      <td>6.733102e-01</td>\n",
       "      <td>6.365218e-01</td>\n",
       "      <td>2.233766e-01</td>\n",
       "    </tr>\n",
       "    <tr>\n",
       "      <th>2</th>\n",
       "      <td>-1.000000e+09</td>\n",
       "      <td>-1.000000e+09</td>\n",
       "      <td>-1.000000e+09</td>\n",
       "      <td>8.558559e-01</td>\n",
       "      <td>4.012132e-01</td>\n",
       "      <td>4.695652e-01</td>\n",
       "      <td>9.948052e-01</td>\n",
       "    </tr>\n",
       "    <tr>\n",
       "      <th>3</th>\n",
       "      <td>-1.000000e+09</td>\n",
       "      <td>-1.000000e+09</td>\n",
       "      <td>-1.000000e+09</td>\n",
       "      <td>1.471471e-01</td>\n",
       "      <td>3.734835e-01</td>\n",
       "      <td>3.721739e-01</td>\n",
       "      <td>1.705628e-01</td>\n",
       "    </tr>\n",
       "    <tr>\n",
       "      <th>4</th>\n",
       "      <td>-1.000000e+09</td>\n",
       "      <td>-1.000000e+09</td>\n",
       "      <td>-1.000000e+09</td>\n",
       "      <td>-1.000000e+09</td>\n",
       "      <td>-1.000000e+09</td>\n",
       "      <td>-1.000000e+09</td>\n",
       "      <td>-1.000000e+09</td>\n",
       "    </tr>\n",
       "  </tbody>\n",
       "</table>\n",
       "</div>"
      ],
      "text/plain": [
       "              0             1             2             3             4  \\\n",
       "0 -1.000000e+09 -1.000000e+09 -1.000000e+09 -1.000000e+09 -1.000000e+09   \n",
       "1  1.000000e+00  1.000000e+00  1.000000e+00  8.908909e-02  6.733102e-01   \n",
       "2 -1.000000e+09 -1.000000e+09 -1.000000e+09  8.558559e-01  4.012132e-01   \n",
       "3 -1.000000e+09 -1.000000e+09 -1.000000e+09  1.471471e-01  3.734835e-01   \n",
       "4 -1.000000e+09 -1.000000e+09 -1.000000e+09 -1.000000e+09 -1.000000e+09   \n",
       "\n",
       "              5             6  \n",
       "0 -1.000000e+09 -1.000000e+09  \n",
       "1  6.365218e-01  2.233766e-01  \n",
       "2  4.695652e-01  9.948052e-01  \n",
       "3  3.721739e-01  1.705628e-01  \n",
       "4 -1.000000e+09 -1.000000e+09  "
      ]
     },
     "execution_count": 16,
     "metadata": {},
     "output_type": "execute_result"
    }
   ],
   "source": [
    "a = pd.DataFrame(X[0].numpy())\n",
    "a.head()\n",
    "# a[a[\"1\"] != 0]"
   ]
  },
  {
   "cell_type": "code",
   "execution_count": 5,
   "metadata": {},
   "outputs": [
    {
     "data": {
      "text/plain": [
       "TensorShape([32, 625, 3])"
      ]
     },
     "execution_count": 5,
     "metadata": {},
     "output_type": "execute_result"
    }
   ],
   "source": [
    "in_mask = tf.cast(tf.not_equal(X, 0), dtype=tf.float32) # TensorShape([32, 625, 9])\n",
    "X = X * in_mask # TensorShape([32, 625, 9])\n",
    "out_mask = tf.cast(tf.not_equal(Y, 0), dtype=tf.float32)\n",
    "Y = Y * out_mask\n",
    "out_mask.shape"
   ]
  },
  {
   "cell_type": "code",
   "execution_count": 17,
   "metadata": {},
   "outputs": [
    {
     "name": "stdout",
     "output_type": "stream",
     "text": [
      "(32, 625, 3)\n"
     ]
    }
   ],
   "source": [
    "%run tf_attention.py\n",
    "\n",
    "encoder = Encoder(input_dim=7, d_model=512, N=6, heads=8, dropout=0.1)\n",
    "encoder_output, attention_scores = encoder(X)\n",
    "print(encoder_output.shape)"
   ]
  },
  {
   "cell_type": "code",
   "execution_count": 18,
   "metadata": {},
   "outputs": [
    {
     "data": {
      "text/html": [
       "<div>\n",
       "<style scoped>\n",
       "    .dataframe tbody tr th:only-of-type {\n",
       "        vertical-align: middle;\n",
       "    }\n",
       "\n",
       "    .dataframe tbody tr th {\n",
       "        vertical-align: top;\n",
       "    }\n",
       "\n",
       "    .dataframe thead th {\n",
       "        text-align: right;\n",
       "    }\n",
       "</style>\n",
       "<table border=\"1\" class=\"dataframe\">\n",
       "  <thead>\n",
       "    <tr style=\"text-align: right;\">\n",
       "      <th></th>\n",
       "      <th>0</th>\n",
       "      <th>1</th>\n",
       "      <th>2</th>\n",
       "    </tr>\n",
       "  </thead>\n",
       "  <tbody>\n",
       "    <tr>\n",
       "      <th>0</th>\n",
       "      <td>0.628605</td>\n",
       "      <td>0.574423</td>\n",
       "      <td>2.424313</td>\n",
       "    </tr>\n",
       "    <tr>\n",
       "      <th>1</th>\n",
       "      <td>1.050829</td>\n",
       "      <td>2.537739</td>\n",
       "      <td>1.043929</td>\n",
       "    </tr>\n",
       "    <tr>\n",
       "      <th>2</th>\n",
       "      <td>0.000000</td>\n",
       "      <td>0.000000</td>\n",
       "      <td>0.000000</td>\n",
       "    </tr>\n",
       "    <tr>\n",
       "      <th>3</th>\n",
       "      <td>0.000000</td>\n",
       "      <td>0.000000</td>\n",
       "      <td>0.000000</td>\n",
       "    </tr>\n",
       "    <tr>\n",
       "      <th>4</th>\n",
       "      <td>0.628605</td>\n",
       "      <td>0.574423</td>\n",
       "      <td>2.424313</td>\n",
       "    </tr>\n",
       "  </tbody>\n",
       "</table>\n",
       "</div>"
      ],
      "text/plain": [
       "          0         1         2\n",
       "0  0.628605  0.574423  2.424313\n",
       "1  1.050829  2.537739  1.043929\n",
       "2  0.000000  0.000000  0.000000\n",
       "3  0.000000  0.000000  0.000000\n",
       "4  0.628605  0.574423  2.424313"
      ]
     },
     "execution_count": 18,
     "metadata": {},
     "output_type": "execute_result"
    }
   ],
   "source": [
    "pd.DataFrame(encoder_output[0].numpy()).head()"
   ]
  },
  {
   "cell_type": "markdown",
   "metadata": {},
   "source": [
    "### Test Decoder"
   ]
  },
  {
   "cell_type": "code",
   "execution_count": 19,
   "metadata": {},
   "outputs": [],
   "source": [
    "%run tf_attention.py\n",
    "decoder = Decoder(output_dim=3, d_model=512, N=6, heads=8, dropout=0.1)\n",
    "decoder_out, scores = decoder(Y, encoder_output)"
   ]
  },
  {
   "cell_type": "code",
   "execution_count": 20,
   "metadata": {},
   "outputs": [
    {
     "data": {
      "text/html": [
       "<div>\n",
       "<style scoped>\n",
       "    .dataframe tbody tr th:only-of-type {\n",
       "        vertical-align: middle;\n",
       "    }\n",
       "\n",
       "    .dataframe tbody tr th {\n",
       "        vertical-align: top;\n",
       "    }\n",
       "\n",
       "    .dataframe thead th {\n",
       "        text-align: right;\n",
       "    }\n",
       "</style>\n",
       "<table border=\"1\" class=\"dataframe\">\n",
       "  <thead>\n",
       "    <tr style=\"text-align: right;\">\n",
       "      <th></th>\n",
       "      <th>0</th>\n",
       "      <th>1</th>\n",
       "      <th>2</th>\n",
       "    </tr>\n",
       "  </thead>\n",
       "  <tbody>\n",
       "    <tr>\n",
       "      <th>0</th>\n",
       "      <td>-0.850624</td>\n",
       "      <td>-0.552353</td>\n",
       "      <td>1.402977</td>\n",
       "    </tr>\n",
       "    <tr>\n",
       "      <th>1</th>\n",
       "      <td>1.085323</td>\n",
       "      <td>0.241594</td>\n",
       "      <td>-1.326916</td>\n",
       "    </tr>\n",
       "    <tr>\n",
       "      <th>2</th>\n",
       "      <td>1.098596</td>\n",
       "      <td>0.220972</td>\n",
       "      <td>-1.319568</td>\n",
       "    </tr>\n",
       "    <tr>\n",
       "      <th>3</th>\n",
       "      <td>1.098595</td>\n",
       "      <td>0.220972</td>\n",
       "      <td>-1.319568</td>\n",
       "    </tr>\n",
       "    <tr>\n",
       "      <th>4</th>\n",
       "      <td>-0.850624</td>\n",
       "      <td>-0.552353</td>\n",
       "      <td>1.402977</td>\n",
       "    </tr>\n",
       "  </tbody>\n",
       "</table>\n",
       "</div>"
      ],
      "text/plain": [
       "          0         1         2\n",
       "0 -0.850624 -0.552353  1.402977\n",
       "1  1.085323  0.241594 -1.326916\n",
       "2  1.098596  0.220972 -1.319568\n",
       "3  1.098595  0.220972 -1.319568\n",
       "4 -0.850624 -0.552353  1.402977"
      ]
     },
     "execution_count": 20,
     "metadata": {},
     "output_type": "execute_result"
    }
   ],
   "source": [
    "pd.DataFrame(decoder_out[0].numpy()).head()"
   ]
  },
  {
   "cell_type": "markdown",
   "metadata": {},
   "source": [
    "### Test Transformer"
   ]
  },
  {
   "cell_type": "code",
   "execution_count": 21,
   "metadata": {},
   "outputs": [
    {
     "data": {
      "text/html": [
       "<div>\n",
       "<style scoped>\n",
       "    .dataframe tbody tr th:only-of-type {\n",
       "        vertical-align: middle;\n",
       "    }\n",
       "\n",
       "    .dataframe tbody tr th {\n",
       "        vertical-align: top;\n",
       "    }\n",
       "\n",
       "    .dataframe thead th {\n",
       "        text-align: right;\n",
       "    }\n",
       "</style>\n",
       "<table border=\"1\" class=\"dataframe\">\n",
       "  <thead>\n",
       "    <tr style=\"text-align: right;\">\n",
       "      <th></th>\n",
       "      <th>0</th>\n",
       "      <th>1</th>\n",
       "      <th>2</th>\n",
       "    </tr>\n",
       "  </thead>\n",
       "  <tbody>\n",
       "    <tr>\n",
       "      <th>0</th>\n",
       "      <td>0.000000</td>\n",
       "      <td>0.000000</td>\n",
       "      <td>0.000000</td>\n",
       "    </tr>\n",
       "    <tr>\n",
       "      <th>1</th>\n",
       "      <td>1.091591</td>\n",
       "      <td>-0.443280</td>\n",
       "      <td>-0.241297</td>\n",
       "    </tr>\n",
       "    <tr>\n",
       "      <th>2</th>\n",
       "      <td>1.065382</td>\n",
       "      <td>-0.431197</td>\n",
       "      <td>-0.264500</td>\n",
       "    </tr>\n",
       "    <tr>\n",
       "      <th>3</th>\n",
       "      <td>1.065382</td>\n",
       "      <td>-0.431197</td>\n",
       "      <td>-0.264500</td>\n",
       "    </tr>\n",
       "    <tr>\n",
       "      <th>4</th>\n",
       "      <td>0.000000</td>\n",
       "      <td>0.000000</td>\n",
       "      <td>0.000000</td>\n",
       "    </tr>\n",
       "  </tbody>\n",
       "</table>\n",
       "</div>"
      ],
      "text/plain": [
       "          0         1         2\n",
       "0  0.000000  0.000000  0.000000\n",
       "1  1.091591 -0.443280 -0.241297\n",
       "2  1.065382 -0.431197 -0.264500\n",
       "3  1.065382 -0.431197 -0.264500\n",
       "4  0.000000  0.000000  0.000000"
      ]
     },
     "execution_count": 21,
     "metadata": {},
     "output_type": "execute_result"
    }
   ],
   "source": [
    "%run tf_attention.py\n",
    "\n",
    "transformer = Transformer(7,3,512,6,8,0.1)\n",
    "transformer.eval()\n",
    "out = transformer(X, Y)\n",
    "pd.DataFrame(out[0].numpy()).head()"
   ]
  },
  {
   "cell_type": "markdown",
   "metadata": {},
   "source": [
    "### Extract OD demand and path set (X and Y)\n",
    "X: OD demand, graph (link feature), path, link-path adj \\\n",
    "Y: path flow"
   ]
  },
  {
   "cell_type": "code",
   "execution_count": 22,
   "metadata": {},
   "outputs": [],
   "source": [
    "%run tf_attention.py\n",
    "%run tf_helpers.py \n",
    "\n",
    "class Dataset:\n",
    "    def __init__(self, size, standard_norm, start_from=0):\n",
    "        self.path_encoded = path_encoder()  # Get path encode dictionary\n",
    "        self.X = []\n",
    "        self.Y = []\n",
    "\n",
    "        for i in tqdm(range(size)):\n",
    "            file_name = f\"Output/5by5_Data{start_from+i}\"\n",
    "            x, y = generate_xy(file_name, self.path_encoded, standard_norm)\n",
    "            self.X.append(x)\n",
    "            self.Y.append(y)\n",
    "        \n",
    "        self.X = tf.stack(self.X, axis=0)\n",
    "        self.Y = tf.stack(self.Y, axis=0)\n",
    "        \n",
    "    def __len__(self):\n",
    "        return len(self.X)\n",
    "\n",
    "    def __getitem__(self, idx):\n",
    "        return self.X[idx], self.Y[idx]\n",
    "\n",
    "    def to_tf_dataset(self, batch_size):\n",
    "        dataset = tf.data.Dataset.from_tensor_slices((self.X, self.Y))\n",
    "        dataset = dataset.shuffle(buffer_size=len(self.X)).batch(batch_size).prefetch(tf.data.AUTOTUNE)\n",
    "        return dataset \n",
    "    "
   ]
  },
  {
   "cell_type": "code",
   "execution_count": 23,
   "metadata": {},
   "outputs": [
    {
     "data": {
      "application/vnd.jupyter.widget-view+json": {
       "model_id": "091a9174ffd34b4cb3c5b2f02f19ec86",
       "version_major": 2,
       "version_minor": 0
      },
      "text/plain": [
       "  0%|          | 0/1000 [00:00<?, ?it/s]"
      ]
     },
     "metadata": {},
     "output_type": "display_data"
    },
    {
     "data": {
      "application/vnd.jupyter.widget-view+json": {
       "model_id": "d781ba90229440ceaf44c684bebc37dd",
       "version_major": 2,
       "version_minor": 0
      },
      "text/plain": [
       "  0%|          | 0/500 [00:00<?, ?it/s]"
      ]
     },
     "metadata": {},
     "output_type": "display_data"
    }
   ],
   "source": [
    "# %run helpers.py\n",
    "batch_size = 32\n",
    "train_size = 1000\n",
    "val_size = 500\n",
    "standard_norm = 'normalize'\n",
    "\n",
    "train_dataset = Dataset(train_size, standard_norm)\n",
    "train_data_loader = train_dataset.to_tf_dataset(batch_size)\n",
    "\n",
    "val_dataset = Dataset(val_size, standard_norm, start_from=train_size)\n",
    "val_data_loader = val_dataset.to_tf_dataset(batch_size)"
   ]
  },
  {
   "cell_type": "markdown",
   "metadata": {},
   "source": [
    "### TRY TRAINING AND VALIDATING"
   ]
  },
  {
   "cell_type": "code",
   "execution_count": 24,
   "metadata": {},
   "outputs": [
    {
     "name": "stderr",
     "output_type": "stream",
     "text": [
      "WARNING:absl:At this time, the v2.11+ optimizer `tf.keras.optimizers.Adam` runs slowly on M1/M2 Macs, please use the legacy Keras optimizer instead, located at `tf.keras.optimizers.legacy.Adam`.\n"
     ]
    },
    {
     "data": {
      "application/vnd.jupyter.widget-view+json": {
       "model_id": "09cccacd6c774e5aa1f85a132f258524",
       "version_major": 2,
       "version_minor": 0
      },
      "text/plain": [
       "  0%|          | 0/100 [00:00<?, ?epoch/s]"
      ]
     },
     "metadata": {},
     "output_type": "display_data"
    },
    {
     "name": "stdout",
     "output_type": "stream",
     "text": [
      "Epoch: 1 - Train Loss: 120253.8623, Val Loss: 54295.6248\n",
      "Epoch: 2 - Train Loss: 121519.5427, Val Loss: 54089.1565\n"
     ]
    }
   ],
   "source": [
    "import tensorflow as tf\n",
    "from tensorflow.keras.optimizers import Adam\n",
    "from tensorflow.keras.losses import MeanSquaredError\n",
    "%run tf_attention.py\n",
    "\n",
    "# os.environ[\"CUDA_VISIBLE_DEVICES\"] = \"1\"\n",
    "# device = tf.device('gpu' if tf.test.is_gpu_available() else 'cpu')\n",
    "device = 'cpu'\n",
    "input_dim = 7\n",
    "output_dim = 3\n",
    "\n",
    "model = Transformer(input_dim=input_dim, output_dim=output_dim, d_model=512, N=2, heads=8, dropout=0.1)\n",
    "\n",
    "epochs = 100\n",
    "gradient_accumulation_steps = 4\n",
    "learning_rate = 0.001\n",
    "\n",
    "loss_fn = MeanSquaredError()\n",
    "optimizer = Adam(learning_rate=learning_rate)\n",
    "\n",
    "train_losses = []\n",
    "val_losses = []\n",
    "\n",
    "# Training loop\n",
    "with tqdm(total=epochs, unit=\"epoch\") as pbar:\n",
    "    for epoch in range(epochs):    \n",
    "        # Training phase\n",
    "        total_train_loss = 0\n",
    "        for src, trg in train_data_loader:\n",
    "            with tf.device(device):\n",
    "                with tf.GradientTape() as tape:\n",
    "                    output = model(src, trg)\n",
    "                    loss = loss_fn(trg, output)\n",
    "                \n",
    "                # Backpropagate and update the model\n",
    "                gradients = tape.gradient(loss, model.trainable_variables)\n",
    "                optimizer.apply_gradients(zip(gradients, model.trainable_variables))\n",
    "                total_train_loss += loss.numpy()\n",
    "        \n",
    "        # Validation phase\n",
    "        model.eval()\n",
    "        total_val_loss = 0\n",
    "        for src, trg in val_data_loader:\n",
    "            # Move the batch to the device\n",
    "            with tf.device(device):\n",
    "                # Forward pass\n",
    "                output = model(src, trg)\n",
    "                loss = loss_fn(trg, output)\n",
    "                total_val_loss += loss.numpy()\n",
    "            \n",
    "        pbar.update(1)\n",
    "        pbar.set_description(f\"Train Loss: {total_train_loss / len(train_data_loader):.4f}, Val Loss: {total_val_loss / len(val_data_loader):.4f}\")\n",
    "        \n",
    "        train_losses.append(total_train_loss / len(train_data_loader))\n",
    "        val_losses.append(total_val_loss / len(val_data_loader))\n",
    "        \n",
    "        # Print the training and validation losses\n",
    "        print(f\"Epoch: {epoch+1} - Train Loss: {total_train_loss/len(train_data_loader):.4f}, Val Loss: {total_val_loss/len(val_data_loader):.4f}\")\n"
   ]
  },
  {
   "cell_type": "code",
   "execution_count": null,
   "metadata": {},
   "outputs": [],
   "source": [
    "def plot_loss(train_losses, val_losses, epochs):\n",
    "    plt.figure(figsize=(12, 6))\n",
    "    plt.plot(range(1, epochs+1), train_losses, label='Training Loss')\n",
    "    plt.plot(range(1, epochs+1), val_losses, label='Validation Loss')\n",
    "    plt.xlabel('Epoch')\n",
    "    plt.ylabel('Loss')\n",
    "    plt.title('Training and Validation Loss')\n",
    "    plt.legend()\n",
    "    plt.grid(True)\n",
    "    plt.show()\n",
    "\n",
    "# Example usage\n",
    "train_losses = [0.8, 0.6, 0.5, 0.4, 0.3]\n",
    "val_losses = [0.9, 0.7, 0.6, 0.5, 0.4]\n",
    "epochs = 5\n",
    "\n",
    "plot_loss(train_losses, val_losses, epochs)"
   ]
  },
  {
   "cell_type": "markdown",
   "metadata": {},
   "source": []
  }
 ],
 "metadata": {
  "kernelspec": {
   "display_name": "base",
   "language": "python",
   "name": "python3"
  },
  "language_info": {
   "codemirror_mode": {
    "name": "ipython",
    "version": 3
   },
   "file_extension": ".py",
   "mimetype": "text/x-python",
   "name": "python",
   "nbconvert_exporter": "python",
   "pygments_lexer": "ipython3",
   "version": "3.8.18"
  }
 },
 "nbformat": 4,
 "nbformat_minor": 2
}
