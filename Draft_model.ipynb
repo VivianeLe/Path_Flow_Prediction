{
 "cells": [
  {
   "cell_type": "markdown",
   "metadata": {},
   "source": [
    "## LOAD SOLUTION FILES"
   ]
  },
  {
   "cell_type": "code",
   "execution_count": 1,
   "metadata": {},
   "outputs": [],
   "source": [
    "import os\n",
    "import pickle\n",
    "import pandas as pd\n",
    "from tf_attention import *\n",
    "from tf_helpers import *"
   ]
  },
  {
   "cell_type": "markdown",
   "metadata": {},
   "source": [
    "### Test Encoder"
   ]
  },
  {
   "cell_type": "code",
   "execution_count": 6,
   "metadata": {},
   "outputs": [
    {
     "data": {
      "application/vnd.jupyter.widget-view+json": {
       "model_id": "1688c907dcfc44289cd217f0a71a05b9",
       "version_major": 2,
       "version_minor": 0
      },
      "text/plain": [
       "  0%|          | 0/32 [00:00<?, ?it/s]"
      ]
     },
     "metadata": {},
     "output_type": "display_data"
    }
   ],
   "source": [
    "# print(torch.cuda.is_available())\n",
    "%run tf_helpers.py\n",
    "import tensorflow as tf\n",
    "\n",
    "size = 32\n",
    "sequence_length = 625\n",
    "input_dim = 9\n",
    "output_dim = 3\n",
    "\n",
    "path_encoded = path_encoder()\n",
    "# X = []\n",
    "# Y = []\n",
    "network = []\n",
    "for i in tqdm(range(size)) :\n",
    "    file_name = f\"Output/5by5_Data{i}\"\n",
    "    # x, y = generate_xy(file_name, path_encoded, ' ')\n",
    "    # X.append(x)\n",
    "    # Y.append(y)\n",
    "\n",
    "    file = open(file_name, \"rb\")\n",
    "    stat = pickle.load(file)\n",
    "    file.close()\n",
    "    net = stat[\"data\"][\"network\"]\n",
    "    Graph = get_graphTensor(net)\n",
    "    network.append(Graph)\n",
    "# X = tf.stack(X, axis=0)\n",
    "# Y = tf.stack(Y, axis=0)\n",
    "    "
   ]
  },
  {
   "cell_type": "code",
   "execution_count": 7,
   "metadata": {},
   "outputs": [
    {
     "data": {
      "text/html": [
       "<div>\n",
       "<style scoped>\n",
       "    .dataframe tbody tr th:only-of-type {\n",
       "        vertical-align: middle;\n",
       "    }\n",
       "\n",
       "    .dataframe tbody tr th {\n",
       "        vertical-align: top;\n",
       "    }\n",
       "\n",
       "    .dataframe thead th {\n",
       "        text-align: right;\n",
       "    }\n",
       "</style>\n",
       "<table border=\"1\" class=\"dataframe\">\n",
       "  <thead>\n",
       "    <tr style=\"text-align: right;\">\n",
       "      <th></th>\n",
       "      <th>0</th>\n",
       "      <th>1</th>\n",
       "      <th>2</th>\n",
       "      <th>3</th>\n",
       "      <th>4</th>\n",
       "    </tr>\n",
       "  </thead>\n",
       "  <tbody>\n",
       "    <tr>\n",
       "      <th>0</th>\n",
       "      <td>1.0</td>\n",
       "      <td>2.0</td>\n",
       "      <td>2000.0</td>\n",
       "      <td>40.0</td>\n",
       "      <td>0.6</td>\n",
       "    </tr>\n",
       "    <tr>\n",
       "      <th>1</th>\n",
       "      <td>2.0</td>\n",
       "      <td>1.0</td>\n",
       "      <td>2000.0</td>\n",
       "      <td>40.0</td>\n",
       "      <td>0.6</td>\n",
       "    </tr>\n",
       "    <tr>\n",
       "      <th>2</th>\n",
       "      <td>1.0</td>\n",
       "      <td>6.0</td>\n",
       "      <td>2000.0</td>\n",
       "      <td>40.0</td>\n",
       "      <td>0.6</td>\n",
       "    </tr>\n",
       "    <tr>\n",
       "      <th>3</th>\n",
       "      <td>6.0</td>\n",
       "      <td>1.0</td>\n",
       "      <td>2000.0</td>\n",
       "      <td>40.0</td>\n",
       "      <td>0.6</td>\n",
       "    </tr>\n",
       "    <tr>\n",
       "      <th>4</th>\n",
       "      <td>2.0</td>\n",
       "      <td>3.0</td>\n",
       "      <td>2000.0</td>\n",
       "      <td>40.0</td>\n",
       "      <td>0.6</td>\n",
       "    </tr>\n",
       "  </tbody>\n",
       "</table>\n",
       "</div>"
      ],
      "text/plain": [
       "     0    1       2     3    4\n",
       "0  1.0  2.0  2000.0  40.0  0.6\n",
       "1  2.0  1.0  2000.0  40.0  0.6\n",
       "2  1.0  6.0  2000.0  40.0  0.6\n",
       "3  6.0  1.0  2000.0  40.0  0.6\n",
       "4  2.0  3.0  2000.0  40.0  0.6"
      ]
     },
     "execution_count": 7,
     "metadata": {},
     "output_type": "execute_result"
    }
   ],
   "source": [
    "a = pd.DataFrame(network[0].numpy())\n",
    "a.head()"
   ]
  },
  {
   "cell_type": "code",
   "execution_count": 5,
   "metadata": {},
   "outputs": [
    {
     "data": {
      "text/plain": [
       "TensorShape([32, 625, 3])"
      ]
     },
     "execution_count": 5,
     "metadata": {},
     "output_type": "execute_result"
    }
   ],
   "source": [
    "in_mask = tf.cast(tf.not_equal(X, 0), dtype=tf.float32) # TensorShape([32, 625, 9])\n",
    "X = X * in_mask # TensorShape([32, 625, 9])\n",
    "out_mask = tf.cast(tf.not_equal(Y, 0), dtype=tf.float32)\n",
    "Y = Y * out_mask\n",
    "out_mask.shape"
   ]
  },
  {
   "cell_type": "code",
   "execution_count": 3,
   "metadata": {},
   "outputs": [
    {
     "name": "stdout",
     "output_type": "stream",
     "text": [
      "(32, 625, 3)\n"
     ]
    }
   ],
   "source": [
    "%run tf_attention.py\n",
    "\n",
    "encoder = Encoder(input_dim=9, d_model=512, N=6, heads=8, dropout=0.1)\n",
    "encoder_output, attention_scores = encoder(X)\n",
    "print(encoder_output.shape)"
   ]
  },
  {
   "cell_type": "code",
   "execution_count": 35,
   "metadata": {},
   "outputs": [
    {
     "data": {
      "text/html": [
       "<div>\n",
       "<style scoped>\n",
       "    .dataframe tbody tr th:only-of-type {\n",
       "        vertical-align: middle;\n",
       "    }\n",
       "\n",
       "    .dataframe tbody tr th {\n",
       "        vertical-align: top;\n",
       "    }\n",
       "\n",
       "    .dataframe thead th {\n",
       "        text-align: right;\n",
       "    }\n",
       "</style>\n",
       "<table border=\"1\" class=\"dataframe\">\n",
       "  <thead>\n",
       "    <tr style=\"text-align: right;\">\n",
       "      <th></th>\n",
       "      <th>0</th>\n",
       "      <th>1</th>\n",
       "      <th>2</th>\n",
       "    </tr>\n",
       "  </thead>\n",
       "  <tbody>\n",
       "    <tr>\n",
       "      <th>0</th>\n",
       "      <td>0.000000</td>\n",
       "      <td>2.025494</td>\n",
       "      <td>0.000000</td>\n",
       "    </tr>\n",
       "    <tr>\n",
       "      <th>1</th>\n",
       "      <td>0.000000</td>\n",
       "      <td>2.343900</td>\n",
       "      <td>0.701559</td>\n",
       "    </tr>\n",
       "    <tr>\n",
       "      <th>2</th>\n",
       "      <td>0.768207</td>\n",
       "      <td>0.641126</td>\n",
       "      <td>0.000000</td>\n",
       "    </tr>\n",
       "    <tr>\n",
       "      <th>3</th>\n",
       "      <td>0.000000</td>\n",
       "      <td>2.381319</td>\n",
       "      <td>0.000000</td>\n",
       "    </tr>\n",
       "    <tr>\n",
       "      <th>4</th>\n",
       "      <td>0.000000</td>\n",
       "      <td>1.976538</td>\n",
       "      <td>0.000000</td>\n",
       "    </tr>\n",
       "  </tbody>\n",
       "</table>\n",
       "</div>"
      ],
      "text/plain": [
       "          0         1         2\n",
       "0  0.000000  2.025494  0.000000\n",
       "1  0.000000  2.343900  0.701559\n",
       "2  0.768207  0.641126  0.000000\n",
       "3  0.000000  2.381319  0.000000\n",
       "4  0.000000  1.976538  0.000000"
      ]
     },
     "execution_count": 35,
     "metadata": {},
     "output_type": "execute_result"
    }
   ],
   "source": [
    "pd.DataFrame(encoder_output[0].numpy()).head()"
   ]
  },
  {
   "cell_type": "markdown",
   "metadata": {},
   "source": [
    "### Test Decoder"
   ]
  },
  {
   "cell_type": "code",
   "execution_count": 13,
   "metadata": {},
   "outputs": [],
   "source": [
    "%run tf_attention.py\n",
    "decoder = Decoder(output_dim=3, d_model=512, N=6, heads=8, dropout=0.1)\n",
    "decoder_out, scores = decoder(Y, encoder_output)"
   ]
  },
  {
   "cell_type": "code",
   "execution_count": 14,
   "metadata": {},
   "outputs": [
    {
     "data": {
      "text/html": [
       "<div>\n",
       "<style scoped>\n",
       "    .dataframe tbody tr th:only-of-type {\n",
       "        vertical-align: middle;\n",
       "    }\n",
       "\n",
       "    .dataframe tbody tr th {\n",
       "        vertical-align: top;\n",
       "    }\n",
       "\n",
       "    .dataframe thead th {\n",
       "        text-align: right;\n",
       "    }\n",
       "</style>\n",
       "<table border=\"1\" class=\"dataframe\">\n",
       "  <thead>\n",
       "    <tr style=\"text-align: right;\">\n",
       "      <th></th>\n",
       "      <th>0</th>\n",
       "      <th>1</th>\n",
       "      <th>2</th>\n",
       "    </tr>\n",
       "  </thead>\n",
       "  <tbody>\n",
       "    <tr>\n",
       "      <th>0</th>\n",
       "      <td>-0.430916</td>\n",
       "      <td>1.381320</td>\n",
       "      <td>-0.950404</td>\n",
       "    </tr>\n",
       "    <tr>\n",
       "      <th>1</th>\n",
       "      <td>1.412972</td>\n",
       "      <td>-0.672857</td>\n",
       "      <td>-0.740115</td>\n",
       "    </tr>\n",
       "    <tr>\n",
       "      <th>2</th>\n",
       "      <td>1.409592</td>\n",
       "      <td>-0.795832</td>\n",
       "      <td>-0.613760</td>\n",
       "    </tr>\n",
       "    <tr>\n",
       "      <th>3</th>\n",
       "      <td>1.413325</td>\n",
       "      <td>-0.726242</td>\n",
       "      <td>-0.687083</td>\n",
       "    </tr>\n",
       "    <tr>\n",
       "      <th>4</th>\n",
       "      <td>-0.370846</td>\n",
       "      <td>1.366674</td>\n",
       "      <td>-0.995829</td>\n",
       "    </tr>\n",
       "  </tbody>\n",
       "</table>\n",
       "</div>"
      ],
      "text/plain": [
       "          0         1         2\n",
       "0 -0.430916  1.381320 -0.950404\n",
       "1  1.412972 -0.672857 -0.740115\n",
       "2  1.409592 -0.795832 -0.613760\n",
       "3  1.413325 -0.726242 -0.687083\n",
       "4 -0.370846  1.366674 -0.995829"
      ]
     },
     "execution_count": 14,
     "metadata": {},
     "output_type": "execute_result"
    }
   ],
   "source": [
    "pd.DataFrame(decoder_out[0].numpy()).head()"
   ]
  },
  {
   "cell_type": "markdown",
   "metadata": {},
   "source": [
    "### Test Transformer"
   ]
  },
  {
   "cell_type": "code",
   "execution_count": 20,
   "metadata": {},
   "outputs": [
    {
     "data": {
      "text/html": [
       "<div>\n",
       "<style scoped>\n",
       "    .dataframe tbody tr th:only-of-type {\n",
       "        vertical-align: middle;\n",
       "    }\n",
       "\n",
       "    .dataframe tbody tr th {\n",
       "        vertical-align: top;\n",
       "    }\n",
       "\n",
       "    .dataframe thead th {\n",
       "        text-align: right;\n",
       "    }\n",
       "</style>\n",
       "<table border=\"1\" class=\"dataframe\">\n",
       "  <thead>\n",
       "    <tr style=\"text-align: right;\">\n",
       "      <th></th>\n",
       "      <th>0</th>\n",
       "      <th>1</th>\n",
       "      <th>2</th>\n",
       "    </tr>\n",
       "  </thead>\n",
       "  <tbody>\n",
       "    <tr>\n",
       "      <th>0</th>\n",
       "      <td>0.829380</td>\n",
       "      <td>0.654449</td>\n",
       "      <td>-0.008664</td>\n",
       "    </tr>\n",
       "    <tr>\n",
       "      <th>1</th>\n",
       "      <td>0.073648</td>\n",
       "      <td>0.939672</td>\n",
       "      <td>1.811048</td>\n",
       "    </tr>\n",
       "    <tr>\n",
       "      <th>2</th>\n",
       "      <td>0.082913</td>\n",
       "      <td>0.951749</td>\n",
       "      <td>1.820750</td>\n",
       "    </tr>\n",
       "    <tr>\n",
       "      <th>3</th>\n",
       "      <td>0.090501</td>\n",
       "      <td>0.961588</td>\n",
       "      <td>1.828586</td>\n",
       "    </tr>\n",
       "    <tr>\n",
       "      <th>4</th>\n",
       "      <td>0.826528</td>\n",
       "      <td>0.647151</td>\n",
       "      <td>-0.019008</td>\n",
       "    </tr>\n",
       "  </tbody>\n",
       "</table>\n",
       "</div>"
      ],
      "text/plain": [
       "          0         1         2\n",
       "0  0.829380  0.654449 -0.008664\n",
       "1  0.073648  0.939672  1.811048\n",
       "2  0.082913  0.951749  1.820750\n",
       "3  0.090501  0.961588  1.828586\n",
       "4  0.826528  0.647151 -0.019008"
      ]
     },
     "execution_count": 20,
     "metadata": {},
     "output_type": "execute_result"
    }
   ],
   "source": [
    "%run tf_attention.py\n",
    "\n",
    "transformer = Transformer(9,3,512,6,8,0.1)\n",
    "transformer.eval()\n",
    "out = transformer(X, Y)\n",
    "pd.DataFrame(out[0].numpy()).head()"
   ]
  },
  {
   "cell_type": "markdown",
   "metadata": {},
   "source": [
    "### Extract OD demand and path set (X and Y)\n",
    "X: OD demand, graph (link feature), path, link-path adj \\\n",
    "Y: path flow"
   ]
  },
  {
   "cell_type": "code",
   "execution_count": 4,
   "metadata": {},
   "outputs": [],
   "source": [
    "%run tf_attention.py\n",
    "%run tf_helpers.py \n",
    "\n",
    "class Dataset:\n",
    "    def __init__(self, size, standard_norm, start_from=0):\n",
    "        self.path_encoded = path_encoder()  # Get path encode dictionary\n",
    "        self.X = []\n",
    "        self.Y = []\n",
    "\n",
    "        for i in tqdm(range(size)):\n",
    "            file_name = f\"Output/5by5_Data{start_from+i}\"\n",
    "            x, y = generate_xy(file_name, self.path_encoded, standard_norm)\n",
    "            self.X.append(x)\n",
    "            self.Y.append(y)\n",
    "        \n",
    "        self.X = tf.stack(self.X, axis=0)\n",
    "        self.Y = tf.stack(self.Y, axis=0)\n",
    "        \n",
    "    def __len__(self):\n",
    "        return len(self.X)\n",
    "\n",
    "    def __getitem__(self, idx):\n",
    "        return self.X[idx], self.Y[idx]\n",
    "\n",
    "    def to_tf_dataset(self, batch_size):\n",
    "        dataset = tf.data.Dataset.from_tensor_slices((self.X, self.Y))\n",
    "        dataset = dataset.shuffle(buffer_size=len(self.X)).batch(batch_size).prefetch(tf.data.AUTOTUNE)\n",
    "        return dataset \n",
    "    "
   ]
  },
  {
   "cell_type": "code",
   "execution_count": 5,
   "metadata": {},
   "outputs": [
    {
     "data": {
      "application/vnd.jupyter.widget-view+json": {
       "model_id": "1bbc6c98d79a44088a0564b4c1c94bbd",
       "version_major": 2,
       "version_minor": 0
      },
      "text/plain": [
       "  0%|          | 0/1000 [00:00<?, ?it/s]"
      ]
     },
     "metadata": {},
     "output_type": "display_data"
    },
    {
     "data": {
      "application/vnd.jupyter.widget-view+json": {
       "model_id": "a1d1f58a92474563840ab1d5b9494fbf",
       "version_major": 2,
       "version_minor": 0
      },
      "text/plain": [
       "  0%|          | 0/500 [00:00<?, ?it/s]"
      ]
     },
     "metadata": {},
     "output_type": "display_data"
    }
   ],
   "source": [
    "# %run helpers.py\n",
    "batch_size = 32\n",
    "train_size = 1000\n",
    "val_size = 500\n",
    "standard_norm = 'normalize'\n",
    "\n",
    "train_dataset = Dataset(train_size, standard_norm)\n",
    "train_data_loader = train_dataset.to_tf_dataset(batch_size)\n",
    "\n",
    "val_dataset = Dataset(val_size, standard_norm, start_from=train_size)\n",
    "val_data_loader = val_dataset.to_tf_dataset(batch_size)"
   ]
  },
  {
   "cell_type": "markdown",
   "metadata": {},
   "source": [
    "### TRY TRAINING AND VALIDATING"
   ]
  },
  {
   "cell_type": "code",
   "execution_count": 5,
   "metadata": {},
   "outputs": [
    {
     "name": "stderr",
     "output_type": "stream",
     "text": [
      "WARNING:absl:At this time, the v2.11+ optimizer `tf.keras.optimizers.Adam` runs slowly on M1/M2 Macs, please use the legacy Keras optimizer instead, located at `tf.keras.optimizers.legacy.Adam`.\n"
     ]
    },
    {
     "data": {
      "application/vnd.jupyter.widget-view+json": {
       "model_id": "14633e1e2dc24913978f42931390bf72",
       "version_major": 2,
       "version_minor": 0
      },
      "text/plain": [
       "  0%|          | 0/100 [00:00<?, ?epoch/s]"
      ]
     },
     "metadata": {},
     "output_type": "display_data"
    },
    {
     "name": "stdout",
     "output_type": "stream",
     "text": [
      "Epoch: 1 - Train Loss: 122937.9526, Val Loss: 54378.4285\n",
      "Epoch: 2 - Train Loss: 120377.7637, Val Loss: 54536.9238\n",
      "Epoch: 3 - Train Loss: 121322.8350, Val Loss: 54098.4968\n",
      "Epoch: 4 - Train Loss: 120784.8918, Val Loss: 54268.4746\n",
      "Epoch: 5 - Train Loss: 120104.6985, Val Loss: 54246.6465\n",
      "Epoch: 6 - Train Loss: 119604.8193, Val Loss: 53944.2224\n",
      "Epoch: 7 - Train Loss: 120898.2888, Val Loss: 54225.2168\n",
      "Epoch: 8 - Train Loss: 119720.0632, Val Loss: 54298.2280\n",
      "Epoch: 9 - Train Loss: 121202.2576, Val Loss: 53919.2336\n",
      "Epoch: 10 - Train Loss: 121297.1584, Val Loss: 54445.5315\n",
      "Epoch: 11 - Train Loss: 120660.6868, Val Loss: 53933.6802\n",
      "Epoch: 12 - Train Loss: 120054.6038, Val Loss: 54147.7688\n",
      "Epoch: 13 - Train Loss: 121297.9155, Val Loss: 54275.1213\n",
      "Epoch: 14 - Train Loss: 120526.8169, Val Loss: 54342.1501\n",
      "Epoch: 15 - Train Loss: 119403.0864, Val Loss: 54370.5806\n",
      "Epoch: 16 - Train Loss: 120615.0029, Val Loss: 54265.0337\n",
      "Epoch: 17 - Train Loss: 120732.8069, Val Loss: 54111.0569\n",
      "Epoch: 18 - Train Loss: 118611.8533, Val Loss: 53829.0181\n",
      "Epoch: 19 - Train Loss: 119941.6685, Val Loss: 54131.3638\n",
      "Epoch: 20 - Train Loss: 119901.6182, Val Loss: 54013.8181\n",
      "Epoch: 21 - Train Loss: 119056.4043, Val Loss: 53941.4243\n"
     ]
    }
   ],
   "source": [
    "import tensorflow as tf\n",
    "from tensorflow.keras.optimizers import Adam\n",
    "from tensorflow.keras.losses import MeanSquaredError\n",
    "%run tf_attention.py\n",
    "\n",
    "# os.environ[\"CUDA_VISIBLE_DEVICES\"] = \"1\"\n",
    "# device = tf.device('gpu' if tf.test.is_gpu_available() else 'cpu')\n",
    "device = 'cpu'\n",
    "\n",
    "model = Transformer(input_dim=input_dim, output_dim=output_dim, d_model=512, N=2, heads=8, dropout=0.1)\n",
    "\n",
    "epochs = 100\n",
    "gradient_accumulation_steps = 4\n",
    "learning_rate = 0.001\n",
    "\n",
    "loss_fn = MeanSquaredError()\n",
    "optimizer = Adam(learning_rate=learning_rate)\n",
    "\n",
    "train_losses = []\n",
    "val_losses = []\n",
    "\n",
    "# Training loop\n",
    "with tqdm(total=epochs, unit=\"epoch\") as pbar:\n",
    "    for epoch in range(epochs):    \n",
    "        # Training phase\n",
    "        total_train_loss = 0\n",
    "        for src, trg in train_data_loader:\n",
    "            with tf.device(device):\n",
    "                with tf.GradientTape() as tape:\n",
    "                    output = model(src, trg)\n",
    "                    loss = loss_fn(trg, output)\n",
    "                \n",
    "                # Backpropagate and update the model\n",
    "                gradients = tape.gradient(loss, model.trainable_variables)\n",
    "                optimizer.apply_gradients(zip(gradients, model.trainable_variables))\n",
    "                total_train_loss += loss.numpy()\n",
    "        \n",
    "        # Validation phase\n",
    "        model.eval()\n",
    "        total_val_loss = 0\n",
    "        for src, trg in val_data_loader:\n",
    "            # Move the batch to the device\n",
    "            with tf.device(device):\n",
    "                # Forward pass\n",
    "                output = model(src, trg)\n",
    "                loss = loss_fn(trg, output)\n",
    "                total_val_loss += loss.numpy()\n",
    "            \n",
    "        pbar.update(1)\n",
    "        pbar.set_description(f\"Train Loss: {total_train_loss / len(train_data_loader):.4f}, Val Loss: {total_val_loss / len(val_data_loader):.4f}\")\n",
    "        \n",
    "        train_losses.append(total_train_loss / len(train_data_loader))\n",
    "        val_losses.append(total_val_loss / len(val_data_loader))\n",
    "        \n",
    "        # Print the training and validation losses\n",
    "        print(f\"Epoch: {epoch+1} - Train Loss: {total_train_loss/len(train_data_loader):.4f}, Val Loss: {total_val_loss/len(val_data_loader):.4f}\")\n"
   ]
  },
  {
   "cell_type": "code",
   "execution_count": null,
   "metadata": {},
   "outputs": [],
   "source": [
    "def plot_loss(train_losses, val_losses, epochs):\n",
    "    plt.figure(figsize=(12, 6))\n",
    "    plt.plot(range(1, epochs+1), train_losses, label='Training Loss')\n",
    "    plt.plot(range(1, epochs+1), val_losses, label='Validation Loss')\n",
    "    plt.xlabel('Epoch')\n",
    "    plt.ylabel('Loss')\n",
    "    plt.title('Training and Validation Loss')\n",
    "    plt.legend()\n",
    "    plt.grid(True)\n",
    "    plt.show()\n",
    "\n",
    "# Example usage\n",
    "train_losses = [0.8, 0.6, 0.5, 0.4, 0.3]\n",
    "val_losses = [0.9, 0.7, 0.6, 0.5, 0.4]\n",
    "epochs = 5\n",
    "\n",
    "plot_loss(train_losses, val_losses, epochs)"
   ]
  },
  {
   "cell_type": "markdown",
   "metadata": {},
   "source": []
  }
 ],
 "metadata": {
  "kernelspec": {
   "display_name": "base",
   "language": "python",
   "name": "python3"
  },
  "language_info": {
   "codemirror_mode": {
    "name": "ipython",
    "version": 3
   },
   "file_extension": ".py",
   "mimetype": "text/x-python",
   "name": "python",
   "nbconvert_exporter": "python",
   "pygments_lexer": "ipython3",
   "version": "3.8.18"
  }
 },
 "nbformat": 4,
 "nbformat_minor": 2
}
